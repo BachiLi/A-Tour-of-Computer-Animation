{
  "nbformat": 4,
  "nbformat_minor": 0,
  "metadata": {
    "colab": {
      "name": "A Tour of Computer Animation -- Table of Contents",
      "provenance": [],
      "authorship_tag": "ABX9TyNiEBlLhodRqLSX10w4X6Q7",
      "include_colab_link": true
    },
    "kernelspec": {
      "name": "python3",
      "display_name": "Python 3"
    },
    "language_info": {
      "name": "python"
    }
  },
  "cells": [
    {
      "cell_type": "markdown",
      "metadata": {
        "id": "view-in-github",
        "colab_type": "text"
      },
      "source": [
        "<a href=\"https://colab.research.google.com/github/BachiLi/A-Tour-of-Computer-Animation/blob/main/A_Tour_of_Computer_Animation_Table_of_Contents.ipynb\" target=\"_parent\"><img src=\"https://colab.research.google.com/assets/colab-badge.svg\" alt=\"Open In Colab\"/></a>"
      ]
    },
    {
      "cell_type": "markdown",
      "metadata": {
        "id": "kyomG5CaMbja"
      },
      "source": [
        "**A Tour of Computer Animation** -- [Tzu-Mao Li](https://people.csail.mit.edu/tzumao/)"
      ]
    },
    {
      "cell_type": "markdown",
      "metadata": {
        "id": "B428gFmk2ddb"
      },
      "source": [
        "This is a note that records my journey into computer animation. The structure of this tour is inspired by the books [\"Physically Based Rendering:From Theory To Implementation\"](https://www.pbr-book.org/), [\"Ray Tracing in One Weekend\"](https://raytracing.github.io/books/RayTracingInOneWeekend.html), and [\"Numerical Tours\"](https://www.numerical-tours.com/). Most books and articles about computer animation and physics simulation are mathematic centric and do not contain much code and experiments. This note is an attempt to bridge the gap."
      ]
    },
    {
      "cell_type": "markdown",
      "metadata": {
        "id": "t_GkYhb72_7i"
      },
      "source": [
        "This is the hub to the chapters of this tour. I do not assume background on computer animation or graphics, but I do assume basic familiarity on calculus and linear algebra. There will be quite a bit of math -- sorry. The code is going to be all written in numpy and visualize with matplotlib. These are going to be unoptimized code. We will focus slightly more on the foundation instead of immediate practical implementations, so it might take a while before we can render fancy animations. Don't be afraid to play with the code."
      ]
    },
    {
      "cell_type": "markdown",
      "metadata": {
        "id": "nXr5gLL-3Xpl"
      },
      "source": [
        "**Table of Contents**\n",
        "1. [Newtonian Mechanics and Forward Euler Method](https://colab.research.google.com/drive/1K-Ly9vqZbymrAYe6Krg1ZfSMPY6CnAcY)\n",
        "2. [Lagrangian Mechanics and Pendulums](https://colab.research.google.com/drive/1L4QJyq8hSlgllSYytYW5UHTPvd6w7Vz9)\n",
        "3. [Time Integration and Stability](https://colab.research.google.com/drive/1mXTlYt2nRnXLrXpnP26BgjHKghjGPTCL?usp=sharing)\n",
        "4. Elastic Simulation and Mass Spring Systems\n",
        "5. Physics as Constraints Solving and Position-based Dynamics\n"
      ]
    },
    {
      "cell_type": "markdown",
      "metadata": {
        "id": "cXHWwVBQCfLA"
      },
      "source": [
        "Some useful textbooks and lectures (they are not prerequisite, but instead this note should be used as an accompanying material to these):\n",
        "- [David Levin: CSC417 - Physics-based Animation](https://www.youtube.com/playlist?list=PLTkE7n2CwG_PH09_q0Q7ttjqE2F9yGeM3) (the structure of this tour takes huge inspirations from this course)\n",
        "- [The Feynman Lectures on Physics](https://www.feynmanlectures.caltech.edu/)\n",
        "- [Doug James: CS348C - Computer Graphics: Animation and Simulation](https://graphics.stanford.edu/courses/cs348c/)\n",
        "- [Arnold: Mathematical Methods of Classical Mechanics](https://www.amazon.com/Mathematical-Classical-Mechanics-Graduate-Mathematics/dp/0387968903)\n",
        "- [Witkin and Baraff: Physics-based Modeling](https://graphics.pixar.com/pbm2001/)\n",
        "- [Bargteil and Shinar: An Introduction to Physics-based Animation](https://cal.cs.umbc.edu/Courses/PhysicsBasedAnimation/)\n",
        "- [Åström and Akenine-Möller: Immersive Linear Algebra](http://immersivemath.com/ila/index.html)"
      ]
    },
    {
      "cell_type": "markdown",
      "metadata": {
        "id": "G0gJhMjuHJdi"
      },
      "source": [
        "The notes are still work in progress and probably contain a lot of errors. Please send email to me (tzli@ucsd.edu) if you have any suggestions and comments."
      ]
    }
  ]
}